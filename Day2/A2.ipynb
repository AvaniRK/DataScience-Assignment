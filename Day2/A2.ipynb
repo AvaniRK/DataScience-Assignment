{
 "cells": [
  {
   "cell_type": "markdown",
   "metadata": {},
   "source": [
    "# Question 1:"
   ]
  },
  {
   "cell_type": "code",
   "execution_count": 1,
   "metadata": {},
   "outputs": [
    {
     "name": "stdout",
     "output_type": "stream",
     "text": [
      "2\n",
      "[2]\n",
      "5\n",
      "[2]\n",
      "10\n",
      "[2, 10]\n",
      "13\n",
      "[2, 10]\n",
      "18\n",
      "[2, 10, 18]\n",
      "20\n",
      "[2, 10, 18, 20]\n",
      "17\n",
      "[2, 10, 18, 20]\n",
      "36\n",
      "[2, 10, 18, 20, 36]\n",
      "49\n",
      "[2, 10, 18, 20, 36]\n",
      "50\n",
      "[2, 10, 18, 20, 36, 50]\n"
     ]
    }
   ],
   "source": [
    "list=[]\n",
    "for i in range(10):\n",
    "    num=int(input())\n",
    "    if(num%2==0):\n",
    "        list.append(num)\n",
    "    print(list)"
   ]
  },
  {
   "cell_type": "markdown",
   "metadata": {},
   "source": [
    "# Question 3:"
   ]
  },
  {
   "cell_type": "code",
   "execution_count": 2,
   "metadata": {},
   "outputs": [
    {
     "name": "stdout",
     "output_type": "stream",
     "text": [
      "8\n",
      "{1: 1, 2: 4, 3: 9, 4: 16, 5: 25, 6: 36, 7: 49, 8: 64}\n"
     ]
    }
   ],
   "source": [
    "n=int(input())\n",
    "d=dict()\n",
    "for i in range(1,n+1):\n",
    "    d[i]=i*i\n",
    "print(d)"
   ]
  },
  {
   "cell_type": "markdown",
   "metadata": {},
   "source": [
    "# Question 4:\n"
   ]
  },
  {
   "cell_type": "code",
   "execution_count": 4,
   "metadata": {},
   "outputs": [
    {
     "name": "stdout",
     "output_type": "stream",
     "text": [
      "4\n",
      "UP 5\n",
      "DOWN 3\n",
      "LEFT 3\n",
      "RIGHT 2\n",
      "2\n"
     ]
    }
   ],
   "source": [
    "import math\n",
    "n=int(input())\n",
    "pos=[]\n",
    "x=0\n",
    "y=0\n",
    "for i in range(n):\n",
    "    dir,step=input().split()\n",
    "    if(dir==\"UP\"):\n",
    "        y=y+int(step)\n",
    "    if(dir==\"DOWN\"):\n",
    "        y=y-int(step)\n",
    "    if(dir==\"LEFT\"):\n",
    "        x=x-int(step)\n",
    "    if(dir==\"RIGHT\"):\n",
    "        x=x+int(step)\n",
    "    dist=math.sqrt(x*x+y*y)\n",
    "print(round(dist))"
   ]
  }
 ],
 "metadata": {
  "kernelspec": {
   "display_name": "Python 3",
   "language": "python",
   "name": "python3"
  },
  "language_info": {
   "codemirror_mode": {
    "name": "ipython",
    "version": 3
   },
   "file_extension": ".py",
   "mimetype": "text/x-python",
   "name": "python",
   "nbconvert_exporter": "python",
   "pygments_lexer": "ipython3",
   "version": "3.8.3"
  }
 },
 "nbformat": 4,
 "nbformat_minor": 4
}
