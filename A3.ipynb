{
 "cells": [
  {
   "cell_type": "markdown",
   "metadata": {},
   "source": [
    "# Question 1:"
   ]
  },
  {
   "cell_type": "code",
   "execution_count": 2,
   "metadata": {},
   "outputs": [
    {
     "name": "stdout",
     "output_type": "stream",
     "text": [
      "2  5  8  11  14  17  20  23  26  29  32  35  38  41  44  47  50  "
     ]
    }
   ],
   "source": [
    "import numpy as np\n",
    "np.arr=[]\n",
    "for np.arr in range(2,51,3):\n",
    "    print(np.arr,end=\"  \")"
   ]
  },
  {
   "cell_type": "markdown",
   "metadata": {},
   "source": [
    "# Question 2:"
   ]
  },
  {
   "cell_type": "code",
   "execution_count": 3,
   "metadata": {},
   "outputs": [
    {
     "name": "stdout",
     "output_type": "stream",
     "text": [
      "25 12 9 100 65\n",
      "10 68 2 100 72\n",
      "\n",
      "\n",
      "[25, 12, 9, 100, 65]\n",
      "[10, 68, 2, 100, 72]\n",
      "\n",
      "\n",
      "[ 25  12   9 100  65]\n",
      "[ 10  68   2 100  72]\n",
      "\n",
      "\n",
      "[ 25  12   9 100  65  10  68   2 100  72]\n"
     ]
    },
    {
     "data": {
      "text/plain": [
       "array([  2,   9,  10,  12,  25,  65,  68,  72, 100, 100])"
      ]
     },
     "execution_count": 3,
     "metadata": {},
     "output_type": "execute_result"
    }
   ],
   "source": [
    "import numpy as np\n",
    "l1=[]\n",
    "l2=[]\n",
    "l1=[int(x) for x in input().split()]  #Enter the elements in list1\n",
    "l2=[int(x) for x in input().split()]  #Enter the elements in list2\n",
    "print(\"\\n\")\n",
    "\n",
    "print(l1)                           \n",
    "print(l2) \n",
    "\n",
    "a=np.asarray(l1)                      #Converting list1 into array1\n",
    "print(\"\\n\")\n",
    "print(a)\n",
    "\n",
    "b=np.asarray(l2)                      #Converting list2 into array2\n",
    "print(b)\n",
    "\n",
    "c=np.concatenate((a,b))               #Concatenate array1 and array2\n",
    "print(\"\\n\")\n",
    "print(c)\n",
    "\n",
    "np.sort(c)                            #Sort the concatenated array"
   ]
  },
  {
   "cell_type": "markdown",
   "metadata": {},
   "source": [
    "# Question 3:"
   ]
  },
  {
   "cell_type": "code",
   "execution_count": 4,
   "metadata": {},
   "outputs": [
    {
     "name": "stdout",
     "output_type": "stream",
     "text": [
      "0 1\n",
      "1 6\n",
      "2 10\n",
      "3 12\n"
     ]
    }
   ],
   "source": [
    "a=np.array(12)\n",
    "b=np.array([1,2,3,4,5,6])\n",
    "c=np.array([[1,2,3,4,5],[7,8,9,10,11]])\n",
    "d=np.array([[[1,2,3],[4,2,6]],[[3,5,1],[9,7,6]]])\n",
    "\n",
    "print(a.ndim,a.size)\n",
    "print(b.ndim,b.size)\n",
    "print(c.ndim,c.size)\n",
    "print(d.ndim,d.size)"
   ]
  },
  {
   "cell_type": "markdown",
   "metadata": {},
   "source": [
    "# Question 4:"
   ]
  },
  {
   "cell_type": "code",
   "execution_count": 5,
   "metadata": {},
   "outputs": [
    {
     "name": "stdout",
     "output_type": "stream",
     "text": [
      "6\n",
      "[0 1 2 3 4 5]\n",
      "1\n",
      "\n",
      "\n",
      "[[0 1 2 3 4 5]]\n",
      "2\n",
      "\n",
      "\n",
      "[[0]\n",
      " [1]\n",
      " [2]\n",
      " [3]\n",
      " [4]\n",
      " [5]]\n",
      "2\n"
     ]
    }
   ],
   "source": [
    "n=int(input())                   # Enter the no. of elements in array\n",
    "arr=np.arange(n)\n",
    "print(arr)\n",
    "print(arr.ndim)\n",
    "print(\"\\n\")\n",
    "\n",
    "arr2=arr[np.newaxis, : ]         # Converting 1D array into 2D array using numpy.newaxis \n",
    "print(arr2)\n",
    "print(arr2.ndim)\n",
    "print(\"\\n\")\n",
    "\n",
    "a=np.expand_dims(arr,axis=1)     # Converting 1D array into 2D array using numpy.expand_dims with axis=1\n",
    "print(a)\n",
    "print(a.ndim)"
   ]
  },
  {
   "cell_type": "markdown",
   "metadata": {},
   "source": [
    "# Question 5:"
   ]
  },
  {
   "cell_type": "code",
   "execution_count": 6,
   "metadata": {},
   "outputs": [
    {
     "name": "stdout",
     "output_type": "stream",
     "text": [
      "[[1 2]\n",
      " [3 4]]\n",
      "\n",
      "\n",
      "[[6 7]\n",
      " [8 9]]\n",
      "\n",
      "\n",
      "[[1 2]\n",
      " [3 4]\n",
      " [6 7]\n",
      " [8 9]]\n",
      "\n",
      "\n",
      "[[1 2 6 7]\n",
      " [3 4 8 9]]\n"
     ]
    }
   ],
   "source": [
    "arr1=(np.arange(1,5).reshape(2,2))\n",
    "print(arr1)\n",
    "print(\"\\n\")\n",
    "\n",
    "arr2=(np.arange(6,10).reshape(2,2))\n",
    "print(arr2)\n",
    "print(\"\\n\")\n",
    "\n",
    "print(np.vstack([arr1,arr2]))\n",
    "print(\"\\n\")\n",
    "print(np.hstack([arr1,arr2]))"
   ]
  },
  {
   "cell_type": "markdown",
   "metadata": {},
   "source": [
    "# Question 6"
   ]
  },
  {
   "cell_type": "code",
   "execution_count": 7,
   "metadata": {},
   "outputs": [
    {
     "name": "stdout",
     "output_type": "stream",
     "text": [
      "[1, 2, 3, 1, 4, 5, 2, 1, 4, 6, 1, 4]\n",
      "[1 2 3 4 5 6]\n",
      "[4 2 1 3 1 1]\n"
     ]
    }
   ],
   "source": [
    "arr=[1,2,3,1,4,5,2,1,4,6,1,4]\n",
    "print(arr)\n",
    "u,c=np.unique(arr,return_counts=True)     #'u' => unique elements in the array and 'c' => the count of each unique elements.\n",
    "print(u)\n",
    "print(c)"
   ]
  }
 ],
 "metadata": {
  "kernelspec": {
   "display_name": "Python 3",
   "language": "python",
   "name": "python3"
  },
  "language_info": {
   "codemirror_mode": {
    "name": "ipython",
    "version": 3
   },
   "file_extension": ".py",
   "mimetype": "text/x-python",
   "name": "python",
   "nbconvert_exporter": "python",
   "pygments_lexer": "ipython3",
   "version": "3.8.3"
  }
 },
 "nbformat": 4,
 "nbformat_minor": 4
}
